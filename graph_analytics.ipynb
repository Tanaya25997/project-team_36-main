{
 "cells": [
  {
   "cell_type": "code",
   "execution_count": 1,
   "metadata": {},
   "outputs": [
    {
     "name": "stdout",
     "output_type": "stream",
     "text": [
      "env: JAVA_HOME=/Library/Java/JavaVirtualMachines/jdk-14.0.1.jdk/Contents/Home\n"
     ]
    }
   ],
   "source": [
    "#set JAVA_HOME\n",
    "%env JAVA_HOME = /Library/Java/JavaVirtualMachines/jdk-14.0.1.jdk/Contents/Home"
   ]
  },
  {
   "cell_type": "code",
   "execution_count": 2,
   "metadata": {},
   "outputs": [],
   "source": [
    "#Setting Spark Context\n",
    "from pyspark import SparkContext\n",
    "\n",
    "sc = SparkContext()\n",
    "sc.addPyFile('/Users/meghashishodia/532/spark/jars/graphframes-0.8.2-spark3.2-s_2.12.jar')"
   ]
  },
  {
   "cell_type": "code",
   "execution_count": 3,
   "metadata": {},
   "outputs": [],
   "source": [
    "from pyspark.sql import SparkSession\n",
    "\n",
    "spark = SparkSession \\\n",
    "        .builder \\\n",
    "        .master(\"local[1]\")\\\n",
    "        .appName(\"Python Spark SQL\") \\\n",
    "        .config(\"spark.executor.heartbeatInterval\", \"200000\") \\\n",
    "        .config(\"spark.network.timeout\", \"300000\") \\\n",
    "        .config(\"spark.driver.memory\", \"15g\") \\\n",
    "        .getOrCreate()"
   ]
  },
  {
   "cell_type": "code",
   "execution_count": 4,
   "metadata": {},
   "outputs": [
    {
     "data": {
      "text/plain": [
       "DataFrame[User_Id: string, Movie_Title: string, Movie_Id: string, Genres: string, Gender: string, Age: string, Occupation: string, Rating_num: string, count_movieRatedTotal: string, count_userRatedTotal: string]"
      ]
     },
     "execution_count": 4,
     "metadata": {},
     "output_type": "execute_result"
    }
   ],
   "source": [
    "#Loading data produced after precprocessing as a dataframe\n",
    "path = \"data/graphxdata.csv\"\n",
    "df = spark.read.format(\"true\").option(\"header\", \"true\").csv(path)\n",
    "df"
   ]
  },
  {
   "cell_type": "code",
   "execution_count": 5,
   "metadata": {},
   "outputs": [],
   "source": [
    "#Create Vertices and Edges DF\n",
    "from numpy.random import default_rng\n",
    "import pandas as pd\n",
    "\n",
    "df_size = df.count()\n",
    "\n",
    "rng = default_rng()\n",
    "numbers = rng.choice(df_size*2, size=df_size, replace=False)\n",
    "\n",
    "df1 = pd.DataFrame(numbers, columns=['id'])\n",
    "\n",
    "df2 = spark.createDataFrame(df1)\n",
    "\n",
    "df = df.withColumn(\"VertexId\", df.User_Id)"
   ]
  },
  {
   "cell_type": "code",
   "execution_count": 6,
   "metadata": {},
   "outputs": [
    {
     "data": {
      "text/plain": [
       "DataFrame[id: string, User_Id: string, Movie_Title: string, Movie_Id: string, Genres: string, Gender: string, Age: string, Occupation: string, count_movieRatedTotal: string]"
      ]
     },
     "execution_count": 6,
     "metadata": {},
     "output_type": "execute_result"
    }
   ],
   "source": [
    "#Vertices DF\n",
    "vertices = df[['VertexId', 'User_Id','Movie_Title', 'Movie_Id', 'Genres', 'Gender', 'Age', 'Occupation', 'count_movieRatedTotal']].toDF(\"id\", 'User_Id','Movie_Title', 'Movie_Id', 'Genres', 'Gender', 'Age', 'Occupation', 'count_movieRatedTotal')\n",
    "vertices"
   ]
  },
  {
   "cell_type": "code",
   "execution_count": 7,
   "metadata": {},
   "outputs": [
    {
     "data": {
      "text/plain": [
       "DataFrame[src: string, dst: string, relationship: string]"
      ]
     },
     "execution_count": 7,
     "metadata": {},
     "output_type": "execute_result"
    }
   ],
   "source": [
    "#Edges DF\n",
    "edges = df[['User_Id', 'Movie_Title', 'Rating_num']].toDF(\"src\", \"dst\", \"relationship\")\n",
    "edges"
   ]
  },
  {
   "cell_type": "code",
   "execution_count": 8,
   "metadata": {},
   "outputs": [],
   "source": [
    "#create graph from vertices and edges DF\n",
    "import graphframes\n",
    "from graphframes import GraphFrame\n",
    "graph = GraphFrame(vertices, edges)"
   ]
  },
  {
   "cell_type": "code",
   "execution_count": 9,
   "metadata": {},
   "outputs": [
    {
     "name": "stdout",
     "output_type": "stream",
     "text": [
      "+----+-------+--------------------+--------+--------------------+------+---+----------+---------------------+\n",
      "|  id|User_Id|         Movie_Title|Movie_Id|              Genres|Gender|Age|Occupation|count_movieRatedTotal|\n",
      "+----+-------+--------------------+--------+--------------------+------+---+----------+---------------------+\n",
      "| 296|    296|Snow White and th...|     594|Animation|Childre...|     M| 50|         5|                  763|\n",
      "| 296|    296|       Psycho (1960)|    1219|     Horror|Thriller|     M| 50|         5|                 1263|\n",
      "| 829|    829|Snow White and th...|     594|Animation|Childre...|     M|  1|        19|                  763|\n",
      "| 829|    829|In the Heat of th...|    1950|       Drama|Mystery|     M|  1|        19|                  348|\n",
      "| 829|    829|       Psycho (1960)|    1219|     Horror|Thriller|     M|  1|        19|                 1263|\n",
      "| 829|    829|   Annie Hall (1977)|    1230|      Comedy|Romance|     M|  1|        19|                 1334|\n",
      "|1436|   1436|    Elizabeth (1998)|    2336|               Drama|     F| 50|         6|                  938|\n",
      "|2069|   2069|       Psycho (1960)|    1219|     Horror|Thriller|     M| 56|        15|                 1263|\n",
      "|2088|   2088|Night of the Livi...|     968|       Horror|Sci-Fi|     M| 50|         7|                  715|\n",
      "|2088|   2088|In the Heat of th...|    1950|       Drama|Mystery|     M| 50|         7|                  348|\n",
      "|2088|   2088|       Psycho (1960)|    1219|     Horror|Thriller|     M| 50|         7|                 1263|\n",
      "|2088|   2088|   Annie Hall (1977)|    1230|      Comedy|Romance|     M| 50|         7|                 1334|\n",
      "|2162|   2162|       Psycho (1960)|    1219|     Horror|Thriller|     F|  1|        10|                 1263|\n",
      "|2294|   2294|Snow White and th...|     594|Animation|Childre...|     M| 56|        13|                  763|\n",
      "|4032|   4032|7th Voyage of Sin...|    3153|Action|Adventure|...|     M| 25|        12|                  258|\n",
      "|4821|   4821|Odd Couple II, Th...|    1837|              Comedy|     M| 18|        19|                   64|\n",
      "|4937|   4937|    Elizabeth (1998)|    2336|               Drama|     M| 35|         0|                  938|\n",
      "|5645|   5645|Night of the Livi...|     968|       Horror|Sci-Fi|     M| 25|         2|                  715|\n",
      "|5925|   5925|Snow White and th...|     594|Animation|Childre...|     F| 25|         0|                  763|\n",
      "|5925|   5925|   Annie Hall (1977)|    1230|      Comedy|Romance|     F| 25|         0|                 1334|\n",
      "+----+-------+--------------------+--------+--------------------+------+---+----------+---------------------+\n",
      "only showing top 20 rows\n",
      "\n"
     ]
    }
   ],
   "source": [
    "#Vertices\n",
    "graph.vertices.show()"
   ]
  },
  {
   "cell_type": "code",
   "execution_count": 10,
   "metadata": {},
   "outputs": [
    {
     "name": "stdout",
     "output_type": "stream",
     "text": [
      "+----+--------------------+------------+\n",
      "| src|                 dst|relationship|\n",
      "+----+--------------------+------------+\n",
      "| 296|Snow White and th...|           3|\n",
      "| 296|       Psycho (1960)|           5|\n",
      "| 829|Snow White and th...|           3|\n",
      "| 829|In the Heat of th...|           4|\n",
      "| 829|       Psycho (1960)|           5|\n",
      "| 829|   Annie Hall (1977)|           5|\n",
      "|1436|    Elizabeth (1998)|           5|\n",
      "|2069|       Psycho (1960)|           4|\n",
      "|2088|Night of the Livi...|           4|\n",
      "|2088|In the Heat of th...|           4|\n",
      "|2088|       Psycho (1960)|           5|\n",
      "|2088|   Annie Hall (1977)|           4|\n",
      "|2162|       Psycho (1960)|           3|\n",
      "|2294|Snow White and th...|           3|\n",
      "|4032|7th Voyage of Sin...|           5|\n",
      "|4821|Odd Couple II, Th...|           1|\n",
      "|4937|    Elizabeth (1998)|           5|\n",
      "|5645|Night of the Livi...|           4|\n",
      "|5925|Snow White and th...|           3|\n",
      "|5925|   Annie Hall (1977)|           4|\n",
      "+----+--------------------+------------+\n",
      "only showing top 20 rows\n",
      "\n"
     ]
    }
   ],
   "source": [
    "#Edges\n",
    "graph.edges.show()"
   ]
  },
  {
   "cell_type": "code",
   "execution_count": 11,
   "metadata": {},
   "outputs": [
    {
     "name": "stdout",
     "output_type": "stream",
     "text": [
      "+--------------------+--------+\n",
      "|                  id|inDegree|\n",
      "+--------------------+--------+\n",
      "|In the Realm of t...|       1|\n",
      "|       Gabbeh (1996)|       1|\n",
      "|Monument Ave. (1998)|       1|\n",
      "|Draughtsman's Con...|       1|\n",
      "|    Firelight (1997)|       1|\n",
      "|In the Bleak Midw...|       1|\n",
      "|Adrenalin: Fear t...|       1|\n",
      "|Swept from the Se...|       1|\n",
      "|         Fall (1997)|       1|\n",
      "|   Miss Julie (1999)|       1|\n",
      "|Adventures of Elm...|       1|\n",
      "|Brother, Can You ...|       1|\n",
      "|  Light It Up (1999)|       1|\n",
      "|Dreaming of Josep...|       1|\n",
      "|Little Nemo: Adve...|       1|\n",
      "|Time Regained (Le...|       1|\n",
      "|  Hollow Reed (1996)|       1|\n",
      "| Secret Agent (1936)|       1|\n",
      "| Queens Logic (1991)|       1|\n",
      "|American Dream (1...|       1|\n",
      "+--------------------+--------+\n",
      "only showing top 20 rows\n",
      "\n"
     ]
    }
   ],
   "source": [
    "#InDegree of Movies\n",
    "results = graph.inDegrees\n",
    "results.sort(\"inDegree\").show()"
   ]
  },
  {
   "cell_type": "code",
   "execution_count": 12,
   "metadata": {},
   "outputs": [
    {
     "name": "stdout",
     "output_type": "stream",
     "text": [
      "+-----------------------------------------------------+--------+\n",
      "|id                                                   |inDegree|\n",
      "+-----------------------------------------------------+--------+\n",
      "|American Beauty (1999)                               |464     |\n",
      "|Star Wars: Episode V - The Empire Strikes Back (1980)|445     |\n",
      "|Star Wars: Episode IV - A New Hope (1977)            |424     |\n",
      "|Star Wars: Episode VI - Return of the Jedi (1983)    |421     |\n",
      "|Terminator 2: Judgment Day (1991)                    |395     |\n",
      "+-----------------------------------------------------+--------+\n",
      "\n"
     ]
    }
   ],
   "source": [
    "#Create as a View to run SQL queries\n",
    "results.createOrReplaceTempView(\"INDEGREE\")\n",
    "#Best Movies\n",
    "spark.sql(\"select id, inDegree from INDEGREE ORDER BY inDegree desc limit 5\").show(truncate=False)"
   ]
  },
  {
   "cell_type": "code",
   "execution_count": 14,
   "metadata": {},
   "outputs": [
    {
     "name": "stdout",
     "output_type": "stream",
     "text": [
      "+-----------------------------------+--------+\n",
      "|id                                 |inDegree|\n",
      "+-----------------------------------+--------+\n",
      "|Bitter Sugar (Azucar Amargo) (1996)|1       |\n",
      "|X: The Unknown (1956)              |1       |\n",
      "|In the Bleak Midwinter (1995)      |1       |\n",
      "|American Dream (1990)              |1       |\n",
      "|Secret Agent (1936)                |1       |\n",
      "+-----------------------------------+--------+\n",
      "\n"
     ]
    },
    {
     "data": {
      "text/plain": [
       "0.3879051208496094"
      ]
     },
     "execution_count": 14,
     "metadata": {},
     "output_type": "execute_result"
    }
   ],
   "source": [
    "#Worst Movies \n",
    "import time\n",
    "start_time = time.time()\n",
    "spark.sql(\"select id, inDegree from INDEGREE ORDER BY inDegree asc limit 5\").show(truncate=False)\n",
    "\n",
    "time.time() - start_time"
   ]
  },
  {
   "cell_type": "code",
   "execution_count": 16,
   "metadata": {},
   "outputs": [],
   "source": [
    "graph.vertices.createOrReplaceTempView(\"Vertices\")"
   ]
  },
  {
   "cell_type": "code",
   "execution_count": 17,
   "metadata": {},
   "outputs": [
    {
     "name": "stdout",
     "output_type": "stream",
     "text": [
      "+--------------------+-----------+\n",
      "|Genres              |Watch_Count|\n",
      "+--------------------+-----------+\n",
      "|Drama               |502        |\n",
      "|Comedy              |399        |\n",
      "|Horror              |135        |\n",
      "|Comedy|Romance      |122        |\n",
      "|Comedy|Drama        |121        |\n",
      "|Drama|Romance       |111        |\n",
      "|Thriller            |80         |\n",
      "|Documentary         |54         |\n",
      "|Action              |53         |\n",
      "|Drama|Thriller      |52         |\n",
      "|Children's|Comedy   |44         |\n",
      "|Action|Thriller     |43         |\n",
      "|Drama|War           |35         |\n",
      "|Comedy|Drama|Romance|31         |\n",
      "|Animation|Children's|31         |\n",
      "|Crime|Drama         |30         |\n",
      "|Action|Drama        |30         |\n",
      "|Horror|Thriller     |30         |\n",
      "|Comedy|Horror       |30         |\n",
      "|Action|Sci-Fi       |27         |\n",
      "+--------------------+-----------+\n",
      "only showing top 20 rows\n",
      "\n"
     ]
    },
    {
     "data": {
      "text/plain": [
       "0.6950337886810303"
      ]
     },
     "execution_count": 17,
     "metadata": {},
     "output_type": "execute_result"
    }
   ],
   "source": [
    "#Best Genres for young adults\n",
    "import time\n",
    "start_time = time.time()\n",
    "\n",
    "spark.sql(\"select Genres, count(distinct(Movie_Title)) AS Watch_Count FROM Vertices WHERE Age<30 And Age>20 GROUP BY Genres ORDER BY Watch_Count desc\").show(truncate=False)\n",
    "\n",
    "time.time() - start_time"
   ]
  },
  {
   "cell_type": "code",
   "execution_count": null,
   "metadata": {},
   "outputs": [],
   "source": []
  },
  {
   "cell_type": "code",
   "execution_count": null,
   "metadata": {},
   "outputs": [],
   "source": []
  }
 ],
 "metadata": {
  "kernelspec": {
   "display_name": "Python 3",
   "language": "python",
   "name": "python3"
  },
  "language_info": {
   "codemirror_mode": {
    "name": "ipython",
    "version": 3
   },
   "file_extension": ".py",
   "mimetype": "text/x-python",
   "name": "python",
   "nbconvert_exporter": "python",
   "pygments_lexer": "ipython3",
   "version": "3.8.5"
  }
 },
 "nbformat": 4,
 "nbformat_minor": 4
}
