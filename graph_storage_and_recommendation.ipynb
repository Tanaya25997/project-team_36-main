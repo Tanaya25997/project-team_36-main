{
 "cells": [
  {
   "cell_type": "code",
   "execution_count": 45,
   "metadata": {},
   "outputs": [
    {
     "name": "stdout",
     "output_type": "stream",
     "text": [
      "Collecting neo4j\n",
      "  Downloading neo4j-5.3.0.tar.gz (157 kB)\n",
      "\u001b[K     |████████████████████████████████| 157 kB 3.2 MB/s eta 0:00:01\n",
      "\u001b[?25h  Installing build dependencies ... \u001b[?25ldone\n",
      "\u001b[?25h  Getting requirements to build wheel ... \u001b[?25ldone\n",
      "\u001b[?25h  Installing backend dependencies ... \u001b[?25ldone\n",
      "\u001b[?25h    Preparing wheel metadata ... \u001b[?25ldone\n",
      "\u001b[?25hRequirement already satisfied: pytz in /Users/meghashishodia/opt/anaconda3/lib/python3.8/site-packages (from neo4j) (2020.1)\n",
      "Building wheels for collected packages: neo4j\n",
      "  Building wheel for neo4j (PEP 517) ... \u001b[?25ldone\n",
      "\u001b[?25h  Created wheel for neo4j: filename=neo4j-5.3.0-py3-none-any.whl size=221840 sha256=1b96fcf1ab7faa24ecde4a799934ce3c217c445b66389587d25d2eba4504f669\n",
      "  Stored in directory: /Users/meghashishodia/Library/Caches/pip/wheels/2a/e0/1d/86615be499a1516f755f4df1f9489cfd3bad5c0e77129c2bee\n",
      "Successfully built neo4j\n",
      "Installing collected packages: neo4j\n",
      "Successfully installed neo4j-5.3.0\n"
     ]
    }
   ],
   "source": [
    "!pip install neo4j"
   ]
  },
  {
   "cell_type": "code",
   "execution_count": 39,
   "metadata": {},
   "outputs": [
    {
     "name": "stdout",
     "output_type": "stream",
     "text": [
      "env: JAVA_HOME=/usr/local/Cellar/openjdk@17/17.0.5/libexec/openjdk.jdk/Contents/Home\n"
     ]
    }
   ],
   "source": [
    "#only certain versions of JAVA are supported by Neo4j\n",
    "%env JAVA_HOME = /usr/local/Cellar/openjdk@17/17.0.5/libexec/openjdk.jdk/Contents/Home"
   ]
  },
  {
   "cell_type": "code",
   "execution_count": 1,
   "metadata": {},
   "outputs": [],
   "source": [
    "import csv\n",
    "import json\n",
    "import pandas as pd\n",
    "import sys, getopt, pprint\n",
    "import neo4j\n",
    "from neo4j import GraphDatabase"
   ]
  },
  {
   "cell_type": "code",
   "execution_count": 2,
   "metadata": {},
   "outputs": [],
   "source": [
    "#Install Neo4j and start Neo4j server using neo4j/bin start"
   ]
  },
  {
   "cell_type": "code",
   "execution_count": 70,
   "metadata": {},
   "outputs": [],
   "source": [
    "#connecting to Neo4j\n",
    "driver = GraphDatabase.driver(\"bolt://localhost:7687\")\n",
    "session = driver.session(database=\"neo4j\")"
   ]
  },
  {
   "cell_type": "code",
   "execution_count": 67,
   "metadata": {},
   "outputs": [
    {
     "name": "stderr",
     "output_type": "stream",
     "text": [
      "<ipython-input-67-f1b6b7abdf9d>:3: ParserWarning: Falling back to the 'python' engine because the 'c' engine does not support regex separators (separators > 1 char and different from '\\s+' are interpreted as regex); you can avoid this warning by specifying engine='python'.\n",
      "  data = pd.read_csv(\"/Users/meghashishodia/532/movies.dat\", sep='::', skipinitialspace=True,\n"
     ]
    },
    {
     "data": {
      "text/html": [
       "<div>\n",
       "<style scoped>\n",
       "    .dataframe tbody tr th:only-of-type {\n",
       "        vertical-align: middle;\n",
       "    }\n",
       "\n",
       "    .dataframe tbody tr th {\n",
       "        vertical-align: top;\n",
       "    }\n",
       "\n",
       "    .dataframe thead th {\n",
       "        text-align: right;\n",
       "    }\n",
       "</style>\n",
       "<table border=\"1\" class=\"dataframe\">\n",
       "  <thead>\n",
       "    <tr style=\"text-align: right;\">\n",
       "      <th></th>\n",
       "      <th>Movie_Id</th>\n",
       "      <th>Movie_Title</th>\n",
       "      <th>Genres</th>\n",
       "    </tr>\n",
       "  </thead>\n",
       "  <tbody>\n",
       "    <tr>\n",
       "      <th>0</th>\n",
       "      <td>1</td>\n",
       "      <td>Toy Story (1995)</td>\n",
       "      <td>Animation|Children's|Comedy</td>\n",
       "    </tr>\n",
       "    <tr>\n",
       "      <th>1</th>\n",
       "      <td>2</td>\n",
       "      <td>Jumanji (1995)</td>\n",
       "      <td>Adventure|Children's|Fantasy</td>\n",
       "    </tr>\n",
       "    <tr>\n",
       "      <th>2</th>\n",
       "      <td>3</td>\n",
       "      <td>Grumpier Old Men (1995)</td>\n",
       "      <td>Comedy|Romance</td>\n",
       "    </tr>\n",
       "    <tr>\n",
       "      <th>3</th>\n",
       "      <td>4</td>\n",
       "      <td>Waiting to Exhale (1995)</td>\n",
       "      <td>Comedy|Drama</td>\n",
       "    </tr>\n",
       "    <tr>\n",
       "      <th>4</th>\n",
       "      <td>5</td>\n",
       "      <td>Father of the Bride Part II (1995)</td>\n",
       "      <td>Comedy</td>\n",
       "    </tr>\n",
       "  </tbody>\n",
       "</table>\n",
       "</div>"
      ],
      "text/plain": [
       "   Movie_Id                         Movie_Title                        Genres\n",
       "0         1                    Toy Story (1995)   Animation|Children's|Comedy\n",
       "1         2                      Jumanji (1995)  Adventure|Children's|Fantasy\n",
       "2         3             Grumpier Old Men (1995)                Comedy|Romance\n",
       "3         4            Waiting to Exhale (1995)                  Comedy|Drama\n",
       "4         5  Father of the Bride Part II (1995)                        Comedy"
      ]
     },
     "execution_count": 67,
     "metadata": {},
     "output_type": "execute_result"
    }
   ],
   "source": [
    "#coverting the first dataset from .dat to .csv to be consumed by Neo4j for persistence\n",
    "import pandas as pd\n",
    "\n",
    "data = pd.read_csv(\"movielens/movies.dat\", sep='::', skipinitialspace=True,\n",
    "                   names=['Movie_Id','Movie_Title','Genres'])\n",
    "\n",
    "data.to_csv('movielens/movies.csv', header=True, index=False)\n",
    "data.head()"
   ]
  },
  {
   "cell_type": "code",
   "execution_count": 68,
   "metadata": {},
   "outputs": [
    {
     "name": "stderr",
     "output_type": "stream",
     "text": [
      "<ipython-input-68-c9905de703e4>:3: ParserWarning: Falling back to the 'python' engine because the 'c' engine does not support regex separators (separators > 1 char and different from '\\s+' are interpreted as regex); you can avoid this warning by specifying engine='python'.\n",
      "  data = pd.read_csv(\"/Users/meghashishodia/532/users.dat\", sep='::', skipinitialspace=True,\n"
     ]
    },
    {
     "data": {
      "text/html": [
       "<div>\n",
       "<style scoped>\n",
       "    .dataframe tbody tr th:only-of-type {\n",
       "        vertical-align: middle;\n",
       "    }\n",
       "\n",
       "    .dataframe tbody tr th {\n",
       "        vertical-align: top;\n",
       "    }\n",
       "\n",
       "    .dataframe thead th {\n",
       "        text-align: right;\n",
       "    }\n",
       "</style>\n",
       "<table border=\"1\" class=\"dataframe\">\n",
       "  <thead>\n",
       "    <tr style=\"text-align: right;\">\n",
       "      <th></th>\n",
       "      <th>id</th>\n",
       "      <th>Gender</th>\n",
       "      <th>Age</th>\n",
       "      <th>Occupation</th>\n",
       "      <th>Zip_Code</th>\n",
       "    </tr>\n",
       "  </thead>\n",
       "  <tbody>\n",
       "    <tr>\n",
       "      <th>0</th>\n",
       "      <td>1</td>\n",
       "      <td>F</td>\n",
       "      <td>1</td>\n",
       "      <td>10</td>\n",
       "      <td>48067</td>\n",
       "    </tr>\n",
       "    <tr>\n",
       "      <th>1</th>\n",
       "      <td>2</td>\n",
       "      <td>M</td>\n",
       "      <td>56</td>\n",
       "      <td>16</td>\n",
       "      <td>70072</td>\n",
       "    </tr>\n",
       "    <tr>\n",
       "      <th>2</th>\n",
       "      <td>3</td>\n",
       "      <td>M</td>\n",
       "      <td>25</td>\n",
       "      <td>15</td>\n",
       "      <td>55117</td>\n",
       "    </tr>\n",
       "    <tr>\n",
       "      <th>3</th>\n",
       "      <td>4</td>\n",
       "      <td>M</td>\n",
       "      <td>45</td>\n",
       "      <td>7</td>\n",
       "      <td>02460</td>\n",
       "    </tr>\n",
       "    <tr>\n",
       "      <th>4</th>\n",
       "      <td>5</td>\n",
       "      <td>M</td>\n",
       "      <td>25</td>\n",
       "      <td>20</td>\n",
       "      <td>55455</td>\n",
       "    </tr>\n",
       "  </tbody>\n",
       "</table>\n",
       "</div>"
      ],
      "text/plain": [
       "   id Gender  Age  Occupation Zip_Code\n",
       "0   1      F    1          10    48067\n",
       "1   2      M   56          16    70072\n",
       "2   3      M   25          15    55117\n",
       "3   4      M   45           7    02460\n",
       "4   5      M   25          20    55455"
      ]
     },
     "execution_count": 68,
     "metadata": {},
     "output_type": "execute_result"
    }
   ],
   "source": [
    "#coverting the second dataset from .dat to .csv to be consumed by Neo4j for persistence\n",
    "import pandas as pd\n",
    "\n",
    "data = pd.read_csv(\"movielens/users.dat\", sep='::', skipinitialspace=True,\n",
    "                   names=['id','Gender','Age', 'Occupation', 'Zip_Code'])\n",
    "\n",
    "data.to_csv('movielens/users.csv', header=True, index=False)\n",
    "data.head()"
   ]
  },
  {
   "cell_type": "code",
   "execution_count": 16,
   "metadata": {},
   "outputs": [
    {
     "name": "stderr",
     "output_type": "stream",
     "text": [
      "<ipython-input-16-07aefaa9cedc>:3: ParserWarning: Falling back to the 'python' engine because the 'c' engine does not support regex separators (separators > 1 char and different from '\\s+' are interpreted as regex); you can avoid this warning by specifying engine='python'.\n",
      "  data = pd.read_csv(\"/Users/meghashishodia/532/ratings.dat\", sep='::', skipinitialspace=True,\n"
     ]
    },
    {
     "data": {
      "text/html": [
       "<div>\n",
       "<style scoped>\n",
       "    .dataframe tbody tr th:only-of-type {\n",
       "        vertical-align: middle;\n",
       "    }\n",
       "\n",
       "    .dataframe tbody tr th {\n",
       "        vertical-align: top;\n",
       "    }\n",
       "\n",
       "    .dataframe thead th {\n",
       "        text-align: right;\n",
       "    }\n",
       "</style>\n",
       "<table border=\"1\" class=\"dataframe\">\n",
       "  <thead>\n",
       "    <tr style=\"text-align: right;\">\n",
       "      <th></th>\n",
       "      <th>User_Id</th>\n",
       "      <th>Movie_Id</th>\n",
       "      <th>Rating</th>\n",
       "      <th>Timestamp</th>\n",
       "    </tr>\n",
       "  </thead>\n",
       "  <tbody>\n",
       "    <tr>\n",
       "      <th>0</th>\n",
       "      <td>1</td>\n",
       "      <td>1193</td>\n",
       "      <td>5</td>\n",
       "      <td>978300760</td>\n",
       "    </tr>\n",
       "    <tr>\n",
       "      <th>1</th>\n",
       "      <td>1</td>\n",
       "      <td>661</td>\n",
       "      <td>3</td>\n",
       "      <td>978302109</td>\n",
       "    </tr>\n",
       "    <tr>\n",
       "      <th>2</th>\n",
       "      <td>1</td>\n",
       "      <td>914</td>\n",
       "      <td>3</td>\n",
       "      <td>978301968</td>\n",
       "    </tr>\n",
       "    <tr>\n",
       "      <th>3</th>\n",
       "      <td>1</td>\n",
       "      <td>3408</td>\n",
       "      <td>4</td>\n",
       "      <td>978300275</td>\n",
       "    </tr>\n",
       "    <tr>\n",
       "      <th>4</th>\n",
       "      <td>1</td>\n",
       "      <td>2355</td>\n",
       "      <td>5</td>\n",
       "      <td>978824291</td>\n",
       "    </tr>\n",
       "  </tbody>\n",
       "</table>\n",
       "</div>"
      ],
      "text/plain": [
       "   User_Id  Movie_Id  Rating  Timestamp\n",
       "0        1      1193       5  978300760\n",
       "1        1       661       3  978302109\n",
       "2        1       914       3  978301968\n",
       "3        1      3408       4  978300275\n",
       "4        1      2355       5  978824291"
      ]
     },
     "execution_count": 16,
     "metadata": {},
     "output_type": "execute_result"
    }
   ],
   "source": [
    "#coverting the third dataset from .dat to .csv to be consumed by Neo4j for persistence\n",
    "import pandas as pd\n",
    "\n",
    "data = pd.read_csv(\"movielens/ratings.dat\", sep='::', skipinitialspace=True,\n",
    "                   names=['User_Id', 'Movie_Id', 'Rating', 'Timestamp'])\n",
    "\n",
    "data_new = data.head(25000)\n",
    "\n",
    "data_new.to_csv('movielens/ratings.csv', header=True, index=False)\n",
    "data.head()"
   ]
  },
  {
   "cell_type": "code",
   "execution_count": 61,
   "metadata": {},
   "outputs": [],
   "source": [
    "#Persist users to Neo4j\n",
    "def add_data(tx):\n",
    "    tx.run(\"LOAD CSV FROM 'file:///users.csv' AS row RETURN row\")\n",
    "\n",
    "with driver.session() as session:\n",
    "    session.execute_write(add_data)\n",
    "driver.close()\n"
   ]
  },
  {
   "cell_type": "code",
   "execution_count": 52,
   "metadata": {},
   "outputs": [],
   "source": [
    "#Persist ratings to Neo4j\n",
    "def add_data(tx):\n",
    "    tx.run(\"LOAD CSV FROM 'file:///ratings.csv' AS row RETURN row\")\n",
    "\n",
    "with driver.session() as session:\n",
    "    session.execute_write(add_data)\n",
    "driver.close()\n"
   ]
  },
  {
   "cell_type": "code",
   "execution_count": 53,
   "metadata": {},
   "outputs": [],
   "source": [
    "#Persist movies to Neo4j\n",
    "def add_data(tx):\n",
    "    tx.run(\"LOAD CSV FROM 'file:///movies.csv' AS row RETURN row\")\n",
    "\n",
    "\n",
    "with driver.session() as session:\n",
    "    session.execute_write(add_data)\n",
    "driver.close()\n"
   ]
  },
  {
   "cell_type": "code",
   "execution_count": null,
   "metadata": {},
   "outputs": [],
   "source": [
    "#Load the user data in Neo4j\n",
    "def load_users(tx):\n",
    "    tx.run(\"LOAD CSV WITH HEADERS FROM 'file:///users.csv' AS row \\\n",
    "            WITH toInteger(row.User_Id) AS User_Id, row.Gender AS Gender, \\\n",
    "            row.Age As Age, row.Occupation AS Occupation, row.Zip_Code AS Zip_Code \\\n",
    "            MERGE (p:Users {User_Id: User_Id}) \\\n",
    "            SET p.Gender = Gender, p.Age = Age \\\n",
    "            RETURN User_Id, Gender \\\n",
    "            LIMIT 5;\")\n",
    "    \n",
    "    \n",
    "with driver.session() as session:\n",
    "    session.execute_write(load_users)\n",
    "driver.close()"
   ]
  },
  {
   "cell_type": "code",
   "execution_count": null,
   "metadata": {},
   "outputs": [],
   "source": [
    "#Load the movie data in Neo4j\n",
    "def load_movies(tx):\n",
    "    tx.run(\"LOAD CSV WITH HEADERS FROM 'file:///movies.csv' AS row \\\n",
    "            WITH toInteger(row.Movie_Id) AS Movie_Id, row.Movie_Title AS Movie_Title, row.Genres As Genres \\\n",
    "            MERGE (p:Movies {Movie_Id: Movie_Id}) \\\n",
    "            SET p.Movie_Title = Movie_Title, p.Genres = Genres \\\n",
    "            RETURN Movie_Id, Movie_Title, Genres \\\n",
    "            LIMIT 5;\")\n",
    "    \n",
    "    \n",
    "with driver.session() as session:\n",
    "    session.execute_write(load_movies)\n",
    "driver.close()"
   ]
  },
  {
   "cell_type": "code",
   "execution_count": null,
   "metadata": {},
   "outputs": [],
   "source": [
    "#Load the ratings data in Neo4j\n",
    "def load_ratings(tx):\n",
    "    tx.run(\"LOAD CSV WITH HEADERS FROM 'file:///ratings.csv' AS row \\\n",
    "            WITH toInteger(row.User_Id) AS User_Id, toInteger(row.Movie_Id) AS Movie_Id, \\\n",
    "            toInteger(row.Rating) as Rating, row.Timestamp As Timestamp \\\n",
    "            MATCH (u:Users {User_Id: User_Id}) \\\n",
    "            MATCH (m:Movies {Movie_Id: Movie_Id}) \\\n",
    "            MERGE (u)-[rel:CONTAINS {Rating: Rating}]->(m) \\\n",
    "            RETURN count(rel);\")\n",
    "    \n",
    "    \n",
    "with driver.session() as session:\n",
    "    session.execute_write(load_ratings)\n",
    "driver.close()"
   ]
  },
  {
   "cell_type": "code",
   "execution_count": null,
   "metadata": {},
   "outputs": [],
   "source": [
    "# create graph using GDS in Neo4j\n",
    "def project_graph(tx):\n",
    "    tx.run(\"CALL gds.graph.project( \\\n",
    "              'movie_ratings', \\\n",
    "              ['Users','Movies'], \\\n",
    "              { \\\n",
    "                CONTAINS: { \\\n",
    "                    orientation: 'UNDIRECTED', \\\n",
    "                    properties: 'Rating' \\\n",
    "                } \\\n",
    "              } \\\n",
    "            );\"\n",
    "          )\n",
    "    \n",
    "    \n",
    "with driver.session() as session:\n",
    "    session.execute_write(project_graph)\n",
    "driver.close()"
   ]
  },
  {
   "cell_type": "code",
   "execution_count": null,
   "metadata": {},
   "outputs": [],
   "source": [
    "# get embeddings for nodes using FastRP in GDS\n",
    "def mutate_fastRP(tx):\n",
    "    tx.run(\"CALL gds.fastRP.mutate('movie_ratings', \\\n",
    "              { \\\n",
    "                embeddingDimension: 8, \\\n",
    "                randomSeed: 42, \\\n",
    "                mutateProperty: 'embedding', \\\n",
    "                relationshipWeightProperty: 'Rating', \\\n",
    "                iterationWeights: [0.8, 1, 1, 1] \\\n",
    "              } \\\n",
    "            ) \\\n",
    "            YIELD nodePropertiesWritten;\"\n",
    "          )\n",
    "    \n",
    "    \n",
    "with driver.session() as session:\n",
    "    session.execute_write(mutate_fastRP)\n",
    "driver.close()"
   ]
  },
  {
   "cell_type": "code",
   "execution_count": null,
   "metadata": {},
   "outputs": [],
   "source": [
    "# Run KNN using GDS in Neo4j\n",
    "def write_knn(tx):\n",
    "    tx.run(\"CALL gds.knn.write('movie_ratings', { \\\n",
    "            topK: 2, \\\n",
    "            nodeProperties: ['embedding'], \\\n",
    "            randomSeed: 42, \\\n",
    "            concurrency: 1, \\\n",
    "            sampleRate: 1.0, \\\n",
    "            deltaThreshold: 0.0, \\\n",
    "            writeRelationshipType: \"SIMILAR\", \\\n",
    "            writeProperty: \"score\" \\\n",
    "            }) \\\n",
    "            YIELD nodesCompared, relationshipsWritten, similarityDistribution \\\n",
    "            RETURN nodesCompared, relationshipsWritten, similarityDistribution.mean as meanSimilarity;\"\n",
    "          )\n",
    "    \n",
    "    \n",
    "with driver.session() as session:\n",
    "    session.execute_write(write_knn)\n",
    "driver.close()"
   ]
  },
  {
   "cell_type": "code",
   "execution_count": null,
   "metadata": {},
   "outputs": [],
   "source": [
    "# Generating similarity matrix for users\n",
    "def generate_similarity(tx):\n",
    "    tx.run(\"MATCH (n:Users)-[r:SIMILAR]->(m:Users) \\\n",
    "            RETURN n.User_Id as person1, m.User_Id as person2, r.score as similarity \\\n",
    "            ORDER BY similarity DESCENDING, person1, person2;\"\n",
    "          )\n",
    "      \n",
    "with driver.session() as session:\n",
    "    session.execute_write(generate_similarity)\n",
    "driver.close()"
   ]
  },
  {
   "cell_type": "code",
   "execution_count": null,
   "metadata": {},
   "outputs": [],
   "source": [
    "# Get Recommendation by specifying the user\n",
    "def fetch_recommendation(tx):\n",
    "    tx.run(\"MATCH (:Users {User_Id: 13})-->(m1:Movies) \\\n",
    "            WITH collect(m1) as movies \\\n",
    "            MATCH (:Users {User_Id: 148})-->(m2:Movies) \\\n",
    "            WHERE not m2 in movies \\\n",
    "            RETURN m2.Movie_Title as recommendation;\"\n",
    "          )\n",
    "    \n",
    "    \n",
    "with driver.session() as session:\n",
    "    session.execute_write(fetch_recommendation)\n",
    "driver.close()"
   ]
  },
  {
   "cell_type": "code",
   "execution_count": null,
   "metadata": {},
   "outputs": [],
   "source": [
    "for each in reader:\n",
    "    row={}\n",
    "    for field in header:\n",
    "        row[field]=each[field]\n",
    "\n",
    "    db.segment.insert(row)"
   ]
  },
  {
   "cell_type": "code",
   "execution_count": null,
   "metadata": {},
   "outputs": [],
   "source": []
  },
  {
   "cell_type": "code",
   "execution_count": null,
   "metadata": {},
   "outputs": [],
   "source": []
  },
  {
   "cell_type": "code",
   "execution_count": 2,
   "metadata": {},
   "outputs": [],
   "source": []
  },
  {
   "cell_type": "code",
   "execution_count": 1,
   "metadata": {},
   "outputs": [
    {
     "name": "stdout",
     "output_type": "stream",
     "text": [
      "env: JAVA_HOME=/Library/Java/JavaVirtualMachines/jdk-14.0.1.jdk/Contents/Home\n"
     ]
    }
   ],
   "source": []
  },
  {
   "cell_type": "code",
   "execution_count": 3,
   "metadata": {},
   "outputs": [],
   "source": [
    "\n"
   ]
  },
  {
   "cell_type": "code",
   "execution_count": 4,
   "metadata": {},
   "outputs": [
    {
     "data": {
      "text/plain": [
       "DataFrame[User_Id: string, Movie_Title: string, Movie_Id: string, Genres: string, Gender: string, Age: string, Occupation: string, Rating_num: string, count_movieRatedTotal: string, count_userRatedTotal: string]"
      ]
     },
     "execution_count": 4,
     "metadata": {},
     "output_type": "execute_result"
    }
   ],
   "source": []
  },
  {
   "cell_type": "code",
   "execution_count": 5,
   "metadata": {},
   "outputs": [],
   "source": [
    "\n"
   ]
  },
  {
   "cell_type": "code",
   "execution_count": 6,
   "metadata": {},
   "outputs": [
    {
     "data": {
      "text/plain": [
       "DataFrame[id: string, User_Id: string, Movie_Title: string, Movie_Id: string, Genres: string, Gender: string, Age: string, Occupation: string, count_movieRatedTotal: string]"
      ]
     },
     "execution_count": 6,
     "metadata": {},
     "output_type": "execute_result"
    }
   ],
   "source": []
  },
  {
   "cell_type": "code",
   "execution_count": 7,
   "metadata": {},
   "outputs": [
    {
     "data": {
      "text/plain": [
       "DataFrame[src: string, dst: string, relationship: string]"
      ]
     },
     "execution_count": 7,
     "metadata": {},
     "output_type": "execute_result"
    }
   ],
   "source": []
  },
  {
   "cell_type": "code",
   "execution_count": 8,
   "metadata": {},
   "outputs": [],
   "source": []
  },
  {
   "cell_type": "code",
   "execution_count": null,
   "metadata": {},
   "outputs": [],
   "source": []
  },
  {
   "cell_type": "code",
   "execution_count": 25,
   "metadata": {},
   "outputs": [
    {
     "name": "stdout",
     "output_type": "stream",
     "text": [
      "+----+-------+--------------------+--------+--------------------+------+---+----------+---------------------+\n",
      "|  id|User_Id|         Movie_Title|Movie_Id|              Genres|Gender|Age|Occupation|count_movieRatedTotal|\n",
      "+----+-------+--------------------+--------+--------------------+------+---+----------+---------------------+\n",
      "| 296|    296|Snow White and th...|     594|Animation|Childre...|     M| 50|         5|                  763|\n",
      "| 296|    296|       Psycho (1960)|    1219|     Horror|Thriller|     M| 50|         5|                 1263|\n",
      "| 829|    829|Snow White and th...|     594|Animation|Childre...|     M|  1|        19|                  763|\n",
      "| 829|    829|In the Heat of th...|    1950|       Drama|Mystery|     M|  1|        19|                  348|\n",
      "| 829|    829|       Psycho (1960)|    1219|     Horror|Thriller|     M|  1|        19|                 1263|\n",
      "| 829|    829|   Annie Hall (1977)|    1230|      Comedy|Romance|     M|  1|        19|                 1334|\n",
      "|1436|   1436|    Elizabeth (1998)|    2336|               Drama|     F| 50|         6|                  938|\n",
      "|2069|   2069|       Psycho (1960)|    1219|     Horror|Thriller|     M| 56|        15|                 1263|\n",
      "|2088|   2088|Night of the Livi...|     968|       Horror|Sci-Fi|     M| 50|         7|                  715|\n",
      "|2088|   2088|In the Heat of th...|    1950|       Drama|Mystery|     M| 50|         7|                  348|\n",
      "|2088|   2088|       Psycho (1960)|    1219|     Horror|Thriller|     M| 50|         7|                 1263|\n",
      "|2088|   2088|   Annie Hall (1977)|    1230|      Comedy|Romance|     M| 50|         7|                 1334|\n",
      "|2162|   2162|       Psycho (1960)|    1219|     Horror|Thriller|     F|  1|        10|                 1263|\n",
      "|2294|   2294|Snow White and th...|     594|Animation|Childre...|     M| 56|        13|                  763|\n",
      "|4032|   4032|7th Voyage of Sin...|    3153|Action|Adventure|...|     M| 25|        12|                  258|\n",
      "|4821|   4821|Odd Couple II, Th...|    1837|              Comedy|     M| 18|        19|                   64|\n",
      "|4937|   4937|    Elizabeth (1998)|    2336|               Drama|     M| 35|         0|                  938|\n",
      "|5645|   5645|Night of the Livi...|     968|       Horror|Sci-Fi|     M| 25|         2|                  715|\n",
      "|5925|   5925|Snow White and th...|     594|Animation|Childre...|     F| 25|         0|                  763|\n",
      "|5925|   5925|   Annie Hall (1977)|    1230|      Comedy|Romance|     F| 25|         0|                 1334|\n",
      "+----+-------+--------------------+--------+--------------------+------+---+----------+---------------------+\n",
      "only showing top 20 rows\n",
      "\n"
     ]
    }
   ],
   "source": []
  },
  {
   "cell_type": "code",
   "execution_count": 26,
   "metadata": {},
   "outputs": [
    {
     "name": "stdout",
     "output_type": "stream",
     "text": [
      "+----+--------------------+------------+\n",
      "| src|                 dst|relationship|\n",
      "+----+--------------------+------------+\n",
      "| 296|Snow White and th...|           3|\n",
      "| 296|       Psycho (1960)|           5|\n",
      "| 829|Snow White and th...|           3|\n",
      "| 829|In the Heat of th...|           4|\n",
      "| 829|       Psycho (1960)|           5|\n",
      "| 829|   Annie Hall (1977)|           5|\n",
      "|1436|    Elizabeth (1998)|           5|\n",
      "|2069|       Psycho (1960)|           4|\n",
      "|2088|Night of the Livi...|           4|\n",
      "|2088|In the Heat of th...|           4|\n",
      "|2088|       Psycho (1960)|           5|\n",
      "|2088|   Annie Hall (1977)|           4|\n",
      "|2162|       Psycho (1960)|           3|\n",
      "|2294|Snow White and th...|           3|\n",
      "|4032|7th Voyage of Sin...|           5|\n",
      "|4821|Odd Couple II, Th...|           1|\n",
      "|4937|    Elizabeth (1998)|           5|\n",
      "|5645|Night of the Livi...|           4|\n",
      "|5925|Snow White and th...|           3|\n",
      "|5925|   Annie Hall (1977)|           4|\n",
      "+----+--------------------+------------+\n",
      "only showing top 20 rows\n",
      "\n"
     ]
    }
   ],
   "source": []
  },
  {
   "cell_type": "code",
   "execution_count": 9,
   "metadata": {},
   "outputs": [
    {
     "name": "stdout",
     "output_type": "stream",
     "text": [
      "+--------------------+--------+\n",
      "|                  id|inDegree|\n",
      "+--------------------+--------+\n",
      "|In the Realm of t...|       1|\n",
      "|       Gabbeh (1996)|       1|\n",
      "|Monument Ave. (1998)|       1|\n",
      "|Draughtsman's Con...|       1|\n",
      "|    Firelight (1997)|       1|\n",
      "|In the Bleak Midw...|       1|\n",
      "|Adrenalin: Fear t...|       1|\n",
      "|Swept from the Se...|       1|\n",
      "|         Fall (1997)|       1|\n",
      "|   Miss Julie (1999)|       1|\n",
      "|Adventures of Elm...|       1|\n",
      "|Brother, Can You ...|       1|\n",
      "|  Light It Up (1999)|       1|\n",
      "|Dreaming of Josep...|       1|\n",
      "|Little Nemo: Adve...|       1|\n",
      "|Time Regained (Le...|       1|\n",
      "|  Hollow Reed (1996)|       1|\n",
      "| Secret Agent (1936)|       1|\n",
      "| Queens Logic (1991)|       1|\n",
      "|American Dream (1...|       1|\n",
      "+--------------------+--------+\n",
      "only showing top 20 rows\n",
      "\n"
     ]
    }
   ],
   "source": [
    "\n"
   ]
  },
  {
   "cell_type": "code",
   "execution_count": 10,
   "metadata": {},
   "outputs": [
    {
     "name": "stdout",
     "output_type": "stream",
     "text": [
      "+-----------------------------------------------------+--------+\n",
      "|id                                                   |inDegree|\n",
      "+-----------------------------------------------------+--------+\n",
      "|American Beauty (1999)                               |464     |\n",
      "|Star Wars: Episode V - The Empire Strikes Back (1980)|445     |\n",
      "|Star Wars: Episode IV - A New Hope (1977)            |424     |\n",
      "|Star Wars: Episode VI - Return of the Jedi (1983)    |421     |\n",
      "|Terminator 2: Judgment Day (1991)                    |395     |\n",
      "+-----------------------------------------------------+--------+\n",
      "\n"
     ]
    }
   ],
   "source": []
  },
  {
   "cell_type": "code",
   "execution_count": 36,
   "metadata": {},
   "outputs": [
    {
     "name": "stdout",
     "output_type": "stream",
     "text": [
      "+-----------------------------------+--------+\n",
      "|id                                 |inDegree|\n",
      "+-----------------------------------+--------+\n",
      "|Bitter Sugar (Azucar Amargo) (1996)|1       |\n",
      "|X: The Unknown (1956)              |1       |\n",
      "|In the Bleak Midwinter (1995)      |1       |\n",
      "|American Dream (1990)              |1       |\n",
      "|Secret Agent (1936)                |1       |\n",
      "+-----------------------------------+--------+\n",
      "\n"
     ]
    }
   ],
   "source": []
  },
  {
   "cell_type": "code",
   "execution_count": 17,
   "metadata": {},
   "outputs": [
    {
     "name": "stdout",
     "output_type": "stream",
     "text": [
      "+-----------------------------------+--------+\n",
      "|id                                 |inDegree|\n",
      "+-----------------------------------+--------+\n",
      "|Bitter Sugar (Azucar Amargo) (1996)|1       |\n",
      "|X: The Unknown (1956)              |1       |\n",
      "|In the Bleak Midwinter (1995)      |1       |\n",
      "|American Dream (1990)              |1       |\n",
      "|Secret Agent (1936)                |1       |\n",
      "+-----------------------------------+--------+\n",
      "\n"
     ]
    },
    {
     "data": {
      "text/plain": [
       "0.9791097640991211"
      ]
     },
     "execution_count": 17,
     "metadata": {},
     "output_type": "execute_result"
    }
   ],
   "source": []
  },
  {
   "cell_type": "code",
   "execution_count": null,
   "metadata": {},
   "outputs": [],
   "source": []
  },
  {
   "cell_type": "code",
   "execution_count": null,
   "metadata": {},
   "outputs": [],
   "source": []
  },
  {
   "cell_type": "code",
   "execution_count": 11,
   "metadata": {},
   "outputs": [],
   "source": []
  },
  {
   "cell_type": "code",
   "execution_count": 18,
   "metadata": {},
   "outputs": [
    {
     "name": "stdout",
     "output_type": "stream",
     "text": [
      "+--------------------+-----------+\n",
      "|Genres              |Watch_Count|\n",
      "+--------------------+-----------+\n",
      "|Drama               |502        |\n",
      "|Comedy              |399        |\n",
      "|Horror              |135        |\n",
      "|Comedy|Romance      |122        |\n",
      "|Comedy|Drama        |121        |\n",
      "|Drama|Romance       |111        |\n",
      "|Thriller            |80         |\n",
      "|Documentary         |54         |\n",
      "|Action              |53         |\n",
      "|Drama|Thriller      |52         |\n",
      "|Children's|Comedy   |44         |\n",
      "|Action|Thriller     |43         |\n",
      "|Drama|War           |35         |\n",
      "|Comedy|Drama|Romance|31         |\n",
      "|Animation|Children's|31         |\n",
      "|Crime|Drama         |30         |\n",
      "|Action|Drama        |30         |\n",
      "|Horror|Thriller     |30         |\n",
      "|Comedy|Horror       |30         |\n",
      "|Action|Sci-Fi       |27         |\n",
      "+--------------------+-----------+\n",
      "only showing top 20 rows\n",
      "\n"
     ]
    },
    {
     "data": {
      "text/plain": [
       "0.47609901428222656"
      ]
     },
     "execution_count": 18,
     "metadata": {},
     "output_type": "execute_result"
    }
   ],
   "source": []
  },
  {
   "cell_type": "code",
   "execution_count": null,
   "metadata": {},
   "outputs": [],
   "source": []
  }
 ],
 "metadata": {
  "kernelspec": {
   "display_name": "Python 3",
   "language": "python",
   "name": "python3"
  },
  "language_info": {
   "codemirror_mode": {
    "name": "ipython",
    "version": 3
   },
   "file_extension": ".py",
   "mimetype": "text/x-python",
   "name": "python",
   "nbconvert_exporter": "python",
   "pygments_lexer": "ipython3",
   "version": "3.8.5"
  }
 },
 "nbformat": 4,
 "nbformat_minor": 4
}
