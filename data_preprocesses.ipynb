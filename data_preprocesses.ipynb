{
  "cells": [
    {
      "cell_type": "code",
      "execution_count": null,
      "metadata": {
        "colab": {
          "base_uri": "https://localhost:8080/"
        },
        "id": "YtPQevcfgowB",
        "outputId": "7607839f-4e48-481a-85b3-b074a01546ac"
      },
      "outputs": [
        {
          "output_type": "stream",
          "name": "stdout",
          "text": [
            "Looking in indexes: https://pypi.org/simple, https://us-python.pkg.dev/colab-wheels/public/simple/\n",
            "Collecting pyspark\n",
            "  Downloading pyspark-3.3.1.tar.gz (281.4 MB)\n",
            "\u001b[K     |████████████████████████████████| 281.4 MB 47 kB/s \n",
            "\u001b[?25hCollecting py4j==0.10.9.5\n",
            "  Downloading py4j-0.10.9.5-py2.py3-none-any.whl (199 kB)\n",
            "\u001b[K     |████████████████████████████████| 199 kB 31.5 MB/s \n",
            "\u001b[?25hBuilding wheels for collected packages: pyspark\n",
            "  Building wheel for pyspark (setup.py) ... \u001b[?25l\u001b[?25hdone\n",
            "  Created wheel for pyspark: filename=pyspark-3.3.1-py2.py3-none-any.whl size=281845514 sha256=0f86439f2c387a9e15e68c932062251aff248c8cb4f5146b4c478b0683e4cf11\n",
            "  Stored in directory: /root/.cache/pip/wheels/42/59/f5/79a5bf931714dcd201b26025347785f087370a10a3329a899c\n",
            "Successfully built pyspark\n",
            "Installing collected packages: py4j, pyspark\n",
            "Successfully installed py4j-0.10.9.5 pyspark-3.3.1\n"
          ]
        }
      ],
      "source": [
        "pip install pyspark"
      ]
    },
    {
      "cell_type": "code",
      "source": [
        "# https://sparkbyexamples.com/pyspark/pyspark-join-explained-with-examples/\n",
        "from pyspark.sql import SparkSession"
      ],
      "metadata": {
        "id": "64mKVaeSvwiw"
      },
      "execution_count": null,
      "outputs": []
    },
    {
      "cell_type": "code",
      "execution_count": null,
      "metadata": {
        "id": "VjnpK2S2gowD"
      },
      "outputs": [],
      "source": [
        "spark = SparkSession \\\n",
        "        .builder \\\n",
        "        .master(\"local[1]\")\\\n",
        "        .appName(\"Movie Lens data set Recommendation\") \\\n",
        "        .getOrCreate()"
      ]
    },
    {
      "cell_type": "code",
      "execution_count": 50,
      "metadata": {
        "colab": {
          "base_uri": "https://localhost:8080/"
        },
        "id": "2MoODbHZgowE",
        "outputId": "b1008e05-7583-4683-ae8c-ac2c5bcd61b6"
      },
      "outputs": [
        {
          "output_type": "stream",
          "name": "stdout",
          "text": [
            "+---+-------------------------------------------------------------------------------+------------------------------------+\n",
            "|_c0|_c1                                                                            |_c2                                 |\n",
            "+---+-------------------------------------------------------------------------------+------------------------------------+\n",
            "|1  |Toy Story (1995)                                                               |Animation|Children's|Comedy         |\n",
            "|2  |Jumanji (1995)                                                                 |Adventure|Children's|Fantasy        |\n",
            "|3  |Grumpier Old Men (1995)                                                        |Comedy|Romance                      |\n",
            "|4  |Waiting to Exhale (1995)                                                       |Comedy|Drama                        |\n",
            "|5  |Father of the Bride Part II (1995)                                             |Comedy                              |\n",
            "|6  |Heat (1995)                                                                    |Action|Crime|Thriller               |\n",
            "|7  |Sabrina (1995)                                                                 |Comedy|Romance                      |\n",
            "|8  |Tom and Huck (1995)                                                            |Adventure|Children's                |\n",
            "|9  |Sudden Death (1995)                                                            |Action                              |\n",
            "|10 |GoldenEye (1995)                                                               |Action|Adventure|Thriller           |\n",
            "|11 |American President, The (1995)                                                 |Comedy|Drama|Romance                |\n",
            "|12 |Dracula: Dead and Loving It (1995)                                             |Comedy|Horror                       |\n",
            "|13 |Balto (1995)                                                                   |Animation|Children's                |\n",
            "|14 |Nixon (1995)                                                                   |Drama                               |\n",
            "|15 |Cutthroat Island (1995)                                                        |Action|Adventure|Romance            |\n",
            "|16 |Casino (1995)                                                                  |Drama|Thriller                      |\n",
            "|17 |Sense and Sensibility (1995)                                                   |Drama|Romance                       |\n",
            "|18 |Four Rooms (1995)                                                              |Thriller                            |\n",
            "|19 |Ace Ventura: When Nature Calls (1995)                                          |Comedy                              |\n",
            "|20 |Money Train (1995)                                                             |Action                              |\n",
            "|21 |Get Shorty (1995)                                                              |Action|Comedy|Drama                 |\n",
            "|22 |Copycat (1995)                                                                 |Crime|Drama|Thriller                |\n",
            "|23 |Assassins (1995)                                                               |Thriller                            |\n",
            "|24 |Powder (1995)                                                                  |Drama|Sci-Fi                        |\n",
            "|25 |Leaving Las Vegas (1995)                                                       |Drama|Romance                       |\n",
            "|26 |Othello (1995)                                                                 |Drama                               |\n",
            "|27 |Now and Then (1995)                                                            |Drama                               |\n",
            "|28 |Persuasion (1995)                                                              |Romance                             |\n",
            "|29 |City of Lost Children, The (1995)                                              |Adventure|Sci-Fi                    |\n",
            "|30 |Shanghai Triad (Yao a yao yao dao waipo qiao) (1995)                           |Drama                               |\n",
            "|31 |Dangerous Minds (1995)                                                         |Drama                               |\n",
            "|32 |Twelve Monkeys (1995)                                                          |Drama|Sci-Fi                        |\n",
            "|33 |Wings of Courage (1995)                                                        |Adventure|Romance                   |\n",
            "|34 |Babe (1995)                                                                    |Children's|Comedy|Drama             |\n",
            "|35 |Carrington (1995)                                                              |Drama|Romance                       |\n",
            "|36 |Dead Man Walking (1995)                                                        |Drama                               |\n",
            "|37 |Across the Sea of Time (1995)                                                  |Documentary                         |\n",
            "|38 |It Takes Two (1995)                                                            |Comedy                              |\n",
            "|39 |Clueless (1995)                                                                |Comedy|Romance                      |\n",
            "|40 |Cry, the Beloved Country (1995)                                                |Drama                               |\n",
            "|41 |Richard III (1995)                                                             |Drama|War                           |\n",
            "|42 |Dead Presidents (1995)                                                         |Action|Crime|Drama                  |\n",
            "|43 |Restoration (1995)                                                             |Drama                               |\n",
            "|44 |Mortal Kombat (1995)                                                           |Action|Adventure                    |\n",
            "|45 |To Die For (1995)                                                              |Comedy|Drama                        |\n",
            "|46 |How to Make an American Quilt (1995)                                           |Drama|Romance                       |\n",
            "|47 |Seven (Se7en) (1995)                                                           |Crime|Thriller                      |\n",
            "|48 |Pocahontas (1995)                                                              |Animation|Children's|Musical|Romance|\n",
            "|49 |When Night Is Falling (1995)                                                   |Drama|Romance                       |\n",
            "|50 |Usual Suspects, The (1995)                                                     |Crime|Thriller                      |\n",
            "|51 |Guardian Angel (1994)                                                          |Action|Drama|Thriller               |\n",
            "|52 |Mighty Aphrodite (1995)                                                        |Comedy                              |\n",
            "|53 |Lamerica (1994)                                                                |Drama                               |\n",
            "|54 |Big Green, The (1995)                                                          |Children's|Comedy                   |\n",
            "|55 |Georgia (1995)                                                                 |Drama                               |\n",
            "|56 |Kids of the Round Table (1995)                                                 |Adventure|Children's|Fantasy        |\n",
            "|57 |Home for the Holidays (1995)                                                   |Drama                               |\n",
            "|58 |Postino, Il (The Postman) (1994)                                               |Drama|Romance                       |\n",
            "|59 |Confessional, The (Le Confessionnal) (1995)                                    |Drama|Mystery                       |\n",
            "|60 |Indian in the Cupboard, The (1995)                                             |Adventure|Children's|Fantasy        |\n",
            "|61 |Eye for an Eye (1996)                                                          |Drama|Thriller                      |\n",
            "|62 |Mr. Holland's Opus (1995)                                                      |Drama                               |\n",
            "|63 |Don't Be a Menace to South Central While Drinking Your Juice in the Hood (1996)|Comedy                              |\n",
            "|64 |Two if by Sea (1996)                                                           |Comedy|Romance                      |\n",
            "|65 |Bio-Dome (1996)                                                                |Comedy                              |\n",
            "|66 |Lawnmower Man 2: Beyond Cyberspace (1996)                                      |Sci-Fi|Thriller                     |\n",
            "|67 |Two Bits (1995)                                                                |Drama                               |\n",
            "|68 |French Twist (Gazon maudit) (1995)                                             |Comedy|Romance                      |\n",
            "|69 |Friday (1995)                                                                  |Comedy                              |\n",
            "|70 |From Dusk Till Dawn (1996)                                                     |Action|Comedy|Crime|Horror|Thriller |\n",
            "|71 |Fair Game (1995)                                                               |Action                              |\n",
            "|72 |Kicking and Screaming (1995)                                                   |Comedy|Drama                        |\n",
            "|73 |Misérables, Les (1995)                                                         |Drama|Musical                       |\n",
            "|74 |Bed of Roses (1996)                                                            |Drama|Romance                       |\n",
            "|75 |Big Bully (1996)                                                               |Comedy|Drama                        |\n",
            "|76 |Screamers (1995)                                                               |Sci-Fi|Thriller                     |\n",
            "|77 |Nico Icon (1995)                                                               |Documentary                         |\n",
            "|78 |Crossing Guard, The (1995)                                                     |Drama                               |\n",
            "|79 |Juror, The (1996)                                                              |Drama|Thriller                      |\n",
            "|80 |White Balloon, The (Badkonake Sefid ) (1995)                                   |Drama                               |\n",
            "|81 |Things to Do in Denver when You're Dead (1995)                                 |Crime|Drama|Romance                 |\n",
            "|82 |Antonia's Line (Antonia) (1995)                                                |Drama                               |\n",
            "|83 |Once Upon a Time... When We Were Colored (1995)                                |Drama                               |\n",
            "|84 |Last Summer in the Hamptons (1995)                                             |Comedy|Drama                        |\n",
            "|85 |Angels and Insects (1995)                                                      |Drama|Romance                       |\n",
            "|86 |White Squall (1996)                                                            |Adventure|Drama                     |\n",
            "|87 |Dunston Checks In (1996)                                                       |Children's|Comedy                   |\n",
            "|88 |Black Sheep (1996)                                                             |Comedy                              |\n",
            "|89 |Nick of Time (1995)                                                            |Action|Thriller                     |\n",
            "|90 |Journey of August King, The (1995)                                             |Drama                               |\n",
            "|92 |Mary Reilly (1996)                                                             |Drama|Thriller                      |\n",
            "|93 |Vampire in Brooklyn (1995)                                                     |Comedy|Romance                      |\n",
            "|94 |Beautiful Girls (1996)                                                         |Drama                               |\n",
            "|95 |Broken Arrow (1996)                                                            |Action|Thriller                     |\n",
            "|96 |In the Bleak Midwinter (1995)                                                  |Comedy                              |\n",
            "|97 |Hate (Haine, La) (1995)                                                        |Drama                               |\n",
            "|98 |Shopping (1994)                                                                |Action|Thriller                     |\n",
            "|99 |Heidi Fleiss: Hollywood Madam (1995)                                           |Documentary                         |\n",
            "|100|City Hall (1996)                                                               |Drama|Thriller                      |\n",
            "|101|Bottle Rocket (1996)                                                           |Comedy                              |\n",
            "+---+-------------------------------------------------------------------------------+------------------------------------+\n",
            "only showing top 100 rows\n",
            "\n",
            "root\n",
            " |-- _c0: string (nullable = true)\n",
            " |-- _c1: string (nullable = true)\n",
            " |-- _c2: string (nullable = true)\n",
            "\n",
            "+---+----+---+---------+\n",
            "|_c0|_c1 |_c2|_c3      |\n",
            "+---+----+---+---------+\n",
            "|1  |1193|5  |978300760|\n",
            "|1  |661 |3  |978302109|\n",
            "|1  |914 |3  |978301968|\n",
            "|1  |3408|4  |978300275|\n",
            "|1  |2355|5  |978824291|\n",
            "|1  |1197|3  |978302268|\n",
            "|1  |1287|5  |978302039|\n",
            "|1  |2804|5  |978300719|\n",
            "|1  |594 |4  |978302268|\n",
            "|1  |919 |4  |978301368|\n",
            "|1  |595 |5  |978824268|\n",
            "|1  |938 |4  |978301752|\n",
            "|1  |2398|4  |978302281|\n",
            "|1  |2918|4  |978302124|\n",
            "|1  |1035|5  |978301753|\n",
            "|1  |2791|4  |978302188|\n",
            "|1  |2687|3  |978824268|\n",
            "|1  |2018|4  |978301777|\n",
            "|1  |3105|5  |978301713|\n",
            "|1  |2797|4  |978302039|\n",
            "|1  |2321|3  |978302205|\n",
            "|1  |720 |3  |978300760|\n",
            "|1  |1270|5  |978300055|\n",
            "|1  |527 |5  |978824195|\n",
            "|1  |2340|3  |978300103|\n",
            "|1  |48  |5  |978824351|\n",
            "|1  |1097|4  |978301953|\n",
            "|1  |1721|4  |978300055|\n",
            "|1  |1545|4  |978824139|\n",
            "|1  |745 |3  |978824268|\n",
            "|1  |2294|4  |978824291|\n",
            "|1  |3186|4  |978300019|\n",
            "|1  |1566|4  |978824330|\n",
            "|1  |588 |4  |978824268|\n",
            "|1  |1907|4  |978824330|\n",
            "|1  |783 |4  |978824291|\n",
            "|1  |1836|5  |978300172|\n",
            "|1  |1022|5  |978300055|\n",
            "|1  |2762|4  |978302091|\n",
            "|1  |150 |5  |978301777|\n",
            "|1  |1   |5  |978824268|\n",
            "|1  |1961|5  |978301590|\n",
            "|1  |1962|4  |978301753|\n",
            "|1  |2692|4  |978301570|\n",
            "|1  |260 |4  |978300760|\n",
            "|1  |1028|5  |978301777|\n",
            "|1  |1029|5  |978302205|\n",
            "|1  |1207|4  |978300719|\n",
            "|1  |2028|5  |978301619|\n",
            "|1  |531 |4  |978302149|\n",
            "|1  |3114|4  |978302174|\n",
            "|1  |608 |4  |978301398|\n",
            "|1  |1246|4  |978302091|\n",
            "|2  |1357|5  |978298709|\n",
            "|2  |3068|4  |978299000|\n",
            "|2  |1537|4  |978299620|\n",
            "|2  |647 |3  |978299351|\n",
            "|2  |2194|4  |978299297|\n",
            "|2  |648 |4  |978299913|\n",
            "|2  |2268|5  |978299297|\n",
            "|2  |2628|3  |978300051|\n",
            "|2  |1103|3  |978298905|\n",
            "|2  |2916|3  |978299809|\n",
            "|2  |3468|5  |978298542|\n",
            "|2  |1210|4  |978298151|\n",
            "|2  |1792|3  |978299941|\n",
            "|2  |1687|3  |978300174|\n",
            "|2  |1213|2  |978298458|\n",
            "|2  |3578|5  |978298958|\n",
            "|2  |2881|3  |978300002|\n",
            "|2  |3030|4  |978298434|\n",
            "|2  |1217|3  |978298151|\n",
            "|2  |3105|4  |978298673|\n",
            "|2  |434 |2  |978300174|\n",
            "|2  |2126|3  |978300123|\n",
            "|2  |3107|2  |978300002|\n",
            "|2  |3108|3  |978299712|\n",
            "|2  |3035|4  |978298625|\n",
            "|2  |1253|3  |978299120|\n",
            "|2  |1610|5  |978299809|\n",
            "|2  |292 |3  |978300123|\n",
            "|2  |2236|5  |978299220|\n",
            "|2  |3071|4  |978299120|\n",
            "|2  |902 |2  |978298905|\n",
            "|2  |368 |4  |978300002|\n",
            "|2  |1259|5  |978298841|\n",
            "|2  |3147|5  |978298652|\n",
            "|2  |1544|4  |978300174|\n",
            "|2  |1293|5  |978298261|\n",
            "|2  |1188|4  |978299620|\n",
            "|2  |3255|4  |978299321|\n",
            "|2  |3256|2  |978299839|\n",
            "|2  |3257|3  |978300073|\n",
            "|2  |110 |5  |978298625|\n",
            "|2  |2278|3  |978299889|\n",
            "|2  |2490|3  |978299966|\n",
            "|2  |1834|4  |978298813|\n",
            "|2  |3471|5  |978298814|\n",
            "|2  |589 |4  |978299773|\n",
            "|2  |1690|3  |978300051|\n",
            "+---+----+---+---------+\n",
            "only showing top 100 rows\n",
            "\n",
            "root\n",
            " |-- _c0: string (nullable = true)\n",
            " |-- _c1: string (nullable = true)\n",
            " |-- _c2: string (nullable = true)\n",
            " |-- _c3: string (nullable = true)\n",
            "\n"
          ]
        }
      ],
      "source": [
        "#Load Movies and Rating dataset \n",
        "\n",
        "\n",
        "movies_dataset = spark.read.option(\"delimiter\", \"::\").csv(\"./movielens/movies.dat\")\n",
        "movies_dataset.withColumnRenamed(\"_c0\",\"Movie_Id\").withColumnRenamed(\"_c1\",\"Movie_Title\").withColumnRenamed(\"_c2\",\"Genres\")\n",
        "movies_dataset.show(100,truncate=False)\n",
        "\n",
        "movies_dataset.printSchema()\n",
        "\n",
        "\n",
        "ratings_dataset = spark.read.option(\"delimiter\", \"::\").csv(\"./movielens/ratings.dat\")\n",
        "ratings_dataset.show(100,truncate=False)\n",
        "ratings_dataset.printSchema()\n",
        "\n",
        "\n",
        "\n",
        "\n",
        "    \n",
        "    \n",
        "\n",
        "#ratings = spark.read.textFile(movieLensHomeDir + \"ratings.dat\").toDF()\n",
        "# from tokenize import String\n",
        "\n",
        "\n",
        "# def parseRating(str: String): Rating = {\n",
        "#     val fieelds\n",
        "    \n",
        "# } \n",
        "# def parseRating(str: String): Rating = {\n",
        "#     val fields = str.split(\"::\")\n",
        "#     return Rating(fields(0).toInt, fields(1).toInt, fields(2).toFloat, fields(3).toLong)\n",
        "#   }\n"
      ]
    },
    {
      "cell_type": "code",
      "source": [
        "\n",
        "#### Dropping the Timestamp column in ratings.csv\n",
        "\n",
        "ratings_dataset.drop(\"_c3\").printSchema()\n",
        "\n",
        "#ratings_dataset.show()\n",
        "\n",
        "\n",
        "\n"
      ],
      "metadata": {
        "colab": {
          "base_uri": "https://localhost:8080/"
        },
        "id": "MPAthdfx8VLH",
        "outputId": "b4816d1b-a4be-44d1-ecc2-8c021246f8bd"
      },
      "execution_count": 44,
      "outputs": [
        {
          "output_type": "stream",
          "name": "stdout",
          "text": [
            "root\n",
            " |-- _c0: string (nullable = true)\n",
            " |-- _c1: string (nullable = true)\n",
            " |-- _c2: string (nullable = true)\n",
            "\n"
          ]
        }
      ]
    },
    {
      "cell_type": "code",
      "source": [
        "### Merge tables for exploratory data analyisis\n",
        "\n"
      ],
      "metadata": {
        "id": "oN1aaXxf--q0"
      },
      "execution_count": null,
      "outputs": []
    },
    {
      "cell_type": "code",
      "execution_count": null,
      "metadata": {
        "id": "CGj846argowF"
      },
      "outputs": [],
      "source": [
        "\n",
        "\n",
        "# object MovieRecomendationSystemDF {\n",
        "\n",
        "#   case class Rating(userId: Int, movieId: Int, rating: Float, timestamp: Long)\n",
        "\n",
        "#   case class Movie(movieId: Int, movieName: String, rating: Float)\n",
        "\n",
        "#   def parseRating(str: String): Rating = {\n",
        "#     val fields = str.split(\"::\")\n",
        "#     return Rating(fields(0).toInt, fields(1).toInt, fields(2).toFloat, fields(3).toLong)\n",
        "#   }\n",
        "\n",
        "#   def main(args: Array[String]) {\n",
        "\n",
        "#     //Initialize SparkSession\n",
        "#     val sparkSession = SparkSession\n",
        "#       .builder()\n",
        "#       .appName(\"spark-read-csv\")\n",
        "#       .master(\"local[*]\")\n",
        "#       .getOrCreate();\n",
        "\n",
        "#     import sparkSession.implicits._\n",
        "\n",
        "#     // load ratings and movie titles\n",
        "#     val movieLensHomeDir = args(0)\n",
        "\n",
        "#     //Load Ratings\n",
        "#     val ratings = sparkSession\n",
        "#       .read.textFile(movieLensHomeDir + \"ratings.dat\")\n",
        "#       .map(parseRating)\n",
        "#       .toDF()\n",
        "\n",
        "#     //Load Movies\n",
        "#     val moviesRDD = sparkSession\n",
        "#       .read.textFile(movieLensHomeDir + \"movies.dat\").map { line =>\n",
        "#       val fields = line.split(\"::\")\n",
        "#       (fields(0).toInt, fields(1))\n",
        "#     }\n",
        "\n",
        "#     //Load my ratings\n",
        "#     val myRating = sparkSession.read.textFile(movieLensHomeDir + \"personalRatings.txt\")\n",
        "#       .map(parseRating)\n",
        "#       .toDF()\n",
        "\n",
        "#     //show the DataFrames\n",
        "#     ratings.show(10)\n",
        "#     myRating.show(10)\n",
        "\n",
        "#     val numRatings = ratings.distinct().count()\n",
        "#     val numUsers = ratings.select(\"userId\").distinct().count()\n",
        "#     val numMovies = moviesRDD.count()\n",
        "\n",
        "#     //get movies dictionary\n",
        "#     val movies = moviesRDD.collect.toMap\n",
        "\n",
        "#     println(\"Got \" + numRatings + \" ratings from \"\n",
        "#       + numUsers + \" users on \" + numMovies + \" movies.\")\n",
        "\n",
        "#   }\n",
        "# }        "
      ]
    },
    {
      "cell_type": "code",
      "execution_count": null,
      "metadata": {
        "id": "_wqzNZKcgowH"
      },
      "outputs": [],
      "source": [
        "\n",
        "\n"
      ]
    },
    {
      "cell_type": "code",
      "execution_count": null,
      "metadata": {
        "id": "QJfNVgFEgowI"
      },
      "outputs": [],
      "source": []
    },
    {
      "cell_type": "code",
      "execution_count": null,
      "metadata": {
        "id": "qVx5QJJmgowI"
      },
      "outputs": [],
      "source": []
    },
    {
      "cell_type": "code",
      "execution_count": null,
      "metadata": {
        "id": "pqFY-FMYgowJ"
      },
      "outputs": [],
      "source": []
    },
    {
      "cell_type": "code",
      "execution_count": null,
      "metadata": {
        "id": "OIhLxuFZgowJ"
      },
      "outputs": [],
      "source": []
    }
  ],
  "metadata": {
    "kernelspec": {
      "display_name": "Python 3.7.9 64-bit",
      "language": "python",
      "name": "python3"
    },
    "language_info": {
      "codemirror_mode": {
        "name": "ipython",
        "version": 3
      },
      "file_extension": ".py",
      "mimetype": "text/x-python",
      "name": "python",
      "nbconvert_exporter": "python",
      "pygments_lexer": "ipython3",
      "version": "3.7.9"
    },
    "vscode": {
      "interpreter": {
        "hash": "aee8b7b246df8f9039afb4144a1f6fd8d2ca17a180786b69acc140d282b71a49"
      }
    },
    "colab": {
      "provenance": []
    },
    "gpuClass": "standard"
  },
  "nbformat": 4,
  "nbformat_minor": 0
}